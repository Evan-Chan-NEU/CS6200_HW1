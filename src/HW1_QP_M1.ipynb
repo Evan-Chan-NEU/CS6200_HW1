{
 "cells": [
  {
   "cell_type": "code",
   "execution_count": null,
   "metadata": {},
   "outputs": [],
   "source": [
    "%pip install elasticsearch==7.17\n",
    "%pip install elasticsearch_dsl"
   ]
  },
  {
   "cell_type": "code",
   "execution_count": 423,
   "metadata": {},
   "outputs": [],
   "source": [
    "from elasticsearch import Elasticsearch\n",
    "import re\n",
    "import os\n",
    "import pandas as pd\n",
    "import string\n",
    "from elasticsearch_dsl import Search\n",
    "import json"
   ]
  },
  {
   "cell_type": "code",
   "execution_count": 20,
   "metadata": {},
   "outputs": [],
   "source": [
    "es = Elasticsearch(\"http://localhost:9200\", timeout=60)"
   ]
  },
  {
   "cell_type": "code",
   "execution_count": 37,
   "metadata": {},
   "outputs": [],
   "source": [
    "os.chdir(\"/Users/Dibble/Desktop/homework-1-Evan-Chan-NEU-main/IR_data/AP_DATA\")\n",
    "files = os.listdir(\"/Users/Dibble/Desktop/homework-1-Evan-Chan-NEU-main/IR_data/AP_DATA/ap89_collection\")\n",
    "files.remove(\"readme\")"
   ]
  },
  {
   "cell_type": "code",
   "execution_count": 40,
   "metadata": {},
   "outputs": [],
   "source": [
    "# function (also used in parser/indexer) to get list of docnums\n",
    "def get_docnums():\n",
    "    test_keys = []\n",
    "    for i in files[:364]:\n",
    "        current = open(str(\"/Users/Dibble/Desktop/homework-1-Evan-Chan-NEU-main/IR_data/AP_DATA/ap89_collection/\"+i), encoding = \"latin-1\")\n",
    "        text = current.read()\n",
    "        keys = re.findall(\"<DOCNO>(.*)</DOCNO>\", text)\n",
    "        for j in keys:\n",
    "            test_keys.append(j)\n",
    "    return test_keys"
   ]
  },
  {
   "cell_type": "code",
   "execution_count": 22,
   "metadata": {},
   "outputs": [],
   "source": [
    "# helper function for get_queries() to return the number of each query\n",
    "def get_queries_nums(queries_list):\n",
    "    queries_nums = []\n",
    "    for line in queries_list:\n",
    "        num = line.split()[0]\n",
    "        queries_nums.append(num)\n",
    "    return queries_nums"
   ]
  },
  {
   "cell_type": "code",
   "execution_count": 23,
   "metadata": {},
   "outputs": [],
   "source": [
    "# helper function for get_queries() to return necessary text of each query with\n",
    "def get_queries_text(queries_list):\n",
    "    queries_nums = get_queries_nums(queries_list)\n",
    "    query_stop_words = [\"Document\", \"will\", \"must\", \"discuss\", \n",
    "    \"report\", \"include\", \"describe\", \"identify\", \"a\", \"an\", \"as\",\n",
    "    \"and\", \"the\", \"to\", \"or\", \"either\", \"of\", \"by\", \"in\", \"with\", \n",
    "    \"about\", \"some\", \"any\", \"its\", \"even\", \"other\", \"which\",\n",
    "    \"being\", \"certain\", \"has\"]\n",
    "    remove_words = queries_nums + query_stop_words\n",
    "    queries_text = []\n",
    "    for i in queries_list:\n",
    "        x = i.split()\n",
    "        queries_text.append(\" \".join(a if a not in remove_words else '' for a in x))\n",
    "    return queries_text"
   ]
  },
  {
   "cell_type": "code",
   "execution_count": 24,
   "metadata": {},
   "outputs": [],
   "source": [
    "# function to get dataframe with query number and query text\n",
    "def get_queries_df():\n",
    "    queries_df = pd.DataFrame()\n",
    "    with open(\"/Users/Dibble/Desktop/homework-1-Evan-Chan-NEU-main/IR_data/AP_DATA/query_desc.51-100.short.txt\") as queries_file:\n",
    "        queries_list = queries_file.read()\n",
    "        queries_list = re.sub(\"-\", \" \", queries_list)\n",
    "        queries_list = queries_list.translate(str.maketrans('', '', string.punctuation))\n",
    "        queries_list = queries_list.split(\"\\n\")\n",
    "        queries_nums = get_queries_nums(queries_list)\n",
    "        queries_text = get_queries_text(queries_list)\n",
    "        queries_df[\"QueryNumber\"] = queries_nums\n",
    "        queries_df[\"QueryText\"] = queries_text\n",
    "    return queries_df\n",
    "\n",
    "#queries_df = get_queries_df()\n",
    "#print(queries_df)"
   ]
  },
  {
   "cell_type": "code",
   "execution_count": 25,
   "metadata": {},
   "outputs": [],
   "source": [
    "# function to get list of queries \n",
    "def get_queries_words(queries_df):\n",
    "    query_words_list = []\n",
    "    for query in queries_df.iloc[:, 1]:\n",
    "        query_words_list.append(query)\n",
    "    return query_words_list\n",
    "\n",
    "#queries_df = get_queries_df()\n",
    "#query_words_list = get_queries_words(queries_df)\n",
    "#print(query_words_list)\n"
   ]
  },
  {
   "cell_type": "code",
   "execution_count": 26,
   "metadata": {},
   "outputs": [],
   "source": [
    "# helper function to get the body from of the queries for elasticsearch search\n",
    "def get_query_bodies(query_words_list):\n",
    "    queries_df = get_queries_df()\n",
    "    q_nums_list = queries_df.iloc[:, 0]\n",
    "\n",
    "    query_body_df = pd.DataFrame()\n",
    "    q_body_list = []\n",
    "    for query in query_words_list:\n",
    "        query_body = {\n",
    "          \"query\": {\n",
    "              \"match\": {\n",
    "                  \"TEXT\": query\n",
    "              }\n",
    "          }\n",
    "        }\n",
    "        q_body_list.append(query_body)\n",
    "    query_body_df[\"QueryNumber\"] = q_nums_list\n",
    "    query_body_df[\"QueryBody\"] = q_body_list\n",
    "\n",
    "    return query_body_df\n"
   ]
  },
  {
   "cell_type": "code",
   "execution_count": 27,
   "metadata": {},
   "outputs": [],
   "source": [
    "# main function runs all 25 queries and returns list of results from each search.\n",
    "def run_queries():\n",
    "    queries_df = get_queries_df()\n",
    "    query_words_list = get_queries_words(queries_df)\n",
    "    query_body_df = get_query_bodies(query_words_list)\n",
    "    \n",
    "    query_result_list = []\n",
    "    for index, row in query_body_df.iterrows():\n",
    "        q_body = query_body_df[\"QueryBody\"][index]\n",
    "        result = es.search(index=\"ap89_index4\", body=q_body, size=1000)\n",
    "        q_num = query_body_df[\"QueryNumber\"][index]\n",
    "        query_result_list.append([q_num, result])\n",
    "  \n",
    "    return query_result_list"
   ]
  },
  {
   "cell_type": "code",
   "execution_count": 28,
   "metadata": {},
   "outputs": [],
   "source": [
    "# helper function gets list of docnums from query result (json)\n",
    "def get_result_docnums(result):\n",
    "    docnums = []\n",
    "    for hit in result[\"hits\"][\"hits\"]:\n",
    "        docnum = hit[\"_id\"]\n",
    "        docnums.append(docnum)\n",
    "    return docnums"
   ]
  },
  {
   "cell_type": "code",
   "execution_count": 430,
   "metadata": {},
   "outputs": [],
   "source": [
    "# helper function gets list of scores from query result (json)\n",
    "def get_result_scores(result):\n",
    "    scores = []\n",
    "    for hit in result[\"hits\"][\"hits\"]:\n",
    "        score = hit[\"_score\"]\n",
    "        scores.append(score)\n",
    "    return scores"
   ]
  },
  {
   "cell_type": "code",
   "execution_count": 31,
   "metadata": {},
   "outputs": [],
   "source": [
    "# helper function to get number of documents in a query result\n",
    "def get_result_count(result):\n",
    "    count = 0\n",
    "    for hit in result[\"hits\"][\"hits\"]:\n",
    "        count = count + 1\n",
    "\n",
    "    return count"
   ]
  },
  {
   "cell_type": "code",
   "execution_count": 385,
   "metadata": {},
   "outputs": [
    {
     "name": "stderr",
     "output_type": "stream",
     "text": [
      "/var/folders/4l/8brx29c94lq1trgx5m8_tz800000gp/T/ipykernel_58364/132238449.py:10: DeprecationWarning: The 'body' parameter is deprecated for the 'search' API and will be removed in a future version. Instead use API parameters directly. See https://github.com/elastic/elasticsearch-py/issues/1698 for more information\n",
      "  result = es.search(index=\"ap89_index4\", body=q_body, size=1000)\n"
     ]
    }
   ],
   "source": [
    "# main function for ES Built-in queries - runs queries and generates output file\n",
    "def es_built_in():\n",
    "    query_result_list = run_queries()\n",
    "\n",
    "    query_result_docnums = []\n",
    "    query_result_scores = []\n",
    "    query_number_result = []\n",
    "    for list in query_result_list:\n",
    "        result = list[-1]\n",
    "        query_result_docnums += get_result_docnums(result)\n",
    "        query_result_scores += get_result_scores(result)\n",
    "\n",
    "        count = get_result_count(result)\n",
    "        i = 0\n",
    "        while i in range(count):\n",
    "            query_number_result.append(list[0])\n",
    "            i += 1\n",
    "\n",
    "    with open('/Users/Dibble/Desktop/homework-1-Evan-Chan-NEU-main/ES_built_in_results.txt', 'w') as queryResults:\n",
    "        rank = 1\n",
    "        j = 0\n",
    "        while j in range(len(query_result_docnums)):\n",
    "            queryResults.write('%s Q0 %s %s %s Exp\\n' % (query_number_result[j], query_result_docnums[j], rank, query_result_scores[j]))\n",
    "            rank += 1\n",
    "            if rank == 1001:\n",
    "                rank = 1\n",
    "            j += 1\n",
    "    queryResults.close()\n",
    "\n",
    "es_built_in()"
   ]
  }
 ],
 "metadata": {
  "kernelspec": {
   "display_name": "base",
   "language": "python",
   "name": "python3"
  },
  "language_info": {
   "codemirror_mode": {
    "name": "ipython",
    "version": 3
   },
   "file_extension": ".py",
   "mimetype": "text/x-python",
   "name": "python",
   "nbconvert_exporter": "python",
   "pygments_lexer": "ipython3",
   "version": "3.9.7"
  },
  "orig_nbformat": 4,
  "vscode": {
   "interpreter": {
    "hash": "49a5930b3c376edc2c2d456532185f29892e78707b529c32ee61aac2c2309a60"
   }
  }
 },
 "nbformat": 4,
 "nbformat_minor": 2
}
